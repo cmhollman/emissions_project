{
 "cells": [
  {
   "cell_type": "markdown",
   "id": "4b9f926c",
   "metadata": {},
   "source": [
    "# Industrial CO<sub>2</sub> Emission Analysis "
   ]
  },
  {
   "cell_type": "code",
   "execution_count": 20,
   "id": "19abaa7b",
   "metadata": {
    "ExecuteTime": {
     "end_time": "2023-08-26T17:25:29.277660Z",
     "start_time": "2023-08-26T17:25:29.260661Z"
    }
   },
   "outputs": [],
   "source": [
    "import pandas as pd\n",
    "import numpy as np\n",
    "import matplotlib.pyplot as plt\n",
    "from matplotlib.pylab import rcParams\n",
    "import seaborn as sns\n",
    "sns.set_style('darkgrid')\n",
    "import datetime\n",
    "from keras.models import Sequential\n",
    "from keras.layers import Dense, Dropout, LSTM\n",
    "from keras.optimizers import Adam\n",
    "from neuralprophet import NeuralProphet, set_log_level\n",
    "set_log_level(\"ERROR\")\n",
    "import warnings\n",
    "warnings.filterwarnings('ignore')\n",
    "from sklearn.metrics import mean_absolute_error\n",
    "from sklearn.metrics import mean_absolute_percentage_error\n",
    "from sklearn.metrics import r2_score\n",
    "from sklearn.metrics import mean_squared_error\n",
    "from math import sqrt\n",
    "from statsmodels.tsa.seasonal import seasonal_decompose\n",
    "from sklearn.preprocessing import MinMaxScaler\n",
    "from sklearn.preprocessing import StandardScaler\n",
    "from sklearn.model_selection import TimeSeriesSplit\n",
    "from sklearn.model_selection import TimeSeriesSplit\n",
    "from keras.preprocessing.sequence import TimeseriesGenerator\n",
    "import xgboost\n",
    "from xgboost import XGBRegressor\n",
    "from sklearn.model_selection import train_test_split\n",
    "from sklearn.model_selection import GridSearchCV\n",
    "import logging\n",
    "logging.getLogger('NeuralProphet').setLevel(logging.CRITICAL)\n",
    "from prophet.plot import plot_plotly, plot_components_plotly\n",
    "from prophet.diagnostics import performance_metrics\n"
   ]
  },
  {
   "cell_type": "code",
   "execution_count": 21,
   "id": "d38bf818",
   "metadata": {
    "ExecuteTime": {
     "end_time": "2023-08-26T17:25:29.517280Z",
     "start_time": "2023-08-26T17:25:29.504179Z"
    }
   },
   "outputs": [],
   "source": [
    "#loading data\n",
    "\n",
    "df = pd.read_csv('owid-world-data.csv')"
   ]
  },
  {
   "cell_type": "code",
   "execution_count": 22,
   "id": "4305f5f2",
   "metadata": {
    "ExecuteTime": {
     "end_time": "2023-08-26T17:25:29.801362Z",
     "start_time": "2023-08-26T17:25:29.778613Z"
    }
   },
   "outputs": [
    {
     "data": {
      "text/html": [
       "<div>\n",
       "<style scoped>\n",
       "    .dataframe tbody tr th:only-of-type {\n",
       "        vertical-align: middle;\n",
       "    }\n",
       "\n",
       "    .dataframe tbody tr th {\n",
       "        vertical-align: top;\n",
       "    }\n",
       "\n",
       "    .dataframe thead th {\n",
       "        text-align: right;\n",
       "    }\n",
       "</style>\n",
       "<table border=\"1\" class=\"dataframe\">\n",
       "  <thead>\n",
       "    <tr style=\"text-align: right;\">\n",
       "      <th></th>\n",
       "      <th>country</th>\n",
       "      <th>year</th>\n",
       "      <th>cement_co2</th>\n",
       "      <th>co2</th>\n",
       "      <th>coal_co2</th>\n",
       "      <th>flaring_co2</th>\n",
       "      <th>gas_co2</th>\n",
       "      <th>oil_co2</th>\n",
       "    </tr>\n",
       "  </thead>\n",
       "  <tbody>\n",
       "    <tr>\n",
       "      <th>0</th>\n",
       "      <td>World</td>\n",
       "      <td>1750</td>\n",
       "      <td>NaN</td>\n",
       "      <td>9.351</td>\n",
       "      <td>9.351</td>\n",
       "      <td>NaN</td>\n",
       "      <td>NaN</td>\n",
       "      <td>NaN</td>\n",
       "    </tr>\n",
       "    <tr>\n",
       "      <th>1</th>\n",
       "      <td>World</td>\n",
       "      <td>1751</td>\n",
       "      <td>NaN</td>\n",
       "      <td>9.351</td>\n",
       "      <td>9.351</td>\n",
       "      <td>NaN</td>\n",
       "      <td>NaN</td>\n",
       "      <td>NaN</td>\n",
       "    </tr>\n",
       "    <tr>\n",
       "      <th>2</th>\n",
       "      <td>World</td>\n",
       "      <td>1752</td>\n",
       "      <td>NaN</td>\n",
       "      <td>9.354</td>\n",
       "      <td>9.354</td>\n",
       "      <td>NaN</td>\n",
       "      <td>NaN</td>\n",
       "      <td>NaN</td>\n",
       "    </tr>\n",
       "    <tr>\n",
       "      <th>3</th>\n",
       "      <td>World</td>\n",
       "      <td>1753</td>\n",
       "      <td>NaN</td>\n",
       "      <td>9.354</td>\n",
       "      <td>9.354</td>\n",
       "      <td>NaN</td>\n",
       "      <td>NaN</td>\n",
       "      <td>NaN</td>\n",
       "    </tr>\n",
       "    <tr>\n",
       "      <th>4</th>\n",
       "      <td>World</td>\n",
       "      <td>1754</td>\n",
       "      <td>NaN</td>\n",
       "      <td>9.358</td>\n",
       "      <td>9.358</td>\n",
       "      <td>NaN</td>\n",
       "      <td>NaN</td>\n",
       "      <td>NaN</td>\n",
       "    </tr>\n",
       "    <tr>\n",
       "      <th>...</th>\n",
       "      <td>...</td>\n",
       "      <td>...</td>\n",
       "      <td>...</td>\n",
       "      <td>...</td>\n",
       "      <td>...</td>\n",
       "      <td>...</td>\n",
       "      <td>...</td>\n",
       "      <td>...</td>\n",
       "    </tr>\n",
       "    <tr>\n",
       "      <th>267</th>\n",
       "      <td>World</td>\n",
       "      <td>2017</td>\n",
       "      <td>1507.923</td>\n",
       "      <td>36096.738</td>\n",
       "      <td>14506.974</td>\n",
       "      <td>391.992</td>\n",
       "      <td>7144.928</td>\n",
       "      <td>12242.628</td>\n",
       "    </tr>\n",
       "    <tr>\n",
       "      <th>268</th>\n",
       "      <td>World</td>\n",
       "      <td>2018</td>\n",
       "      <td>1569.218</td>\n",
       "      <td>36826.508</td>\n",
       "      <td>14746.831</td>\n",
       "      <td>412.116</td>\n",
       "      <td>7529.847</td>\n",
       "      <td>12266.017</td>\n",
       "    </tr>\n",
       "    <tr>\n",
       "      <th>269</th>\n",
       "      <td>World</td>\n",
       "      <td>2019</td>\n",
       "      <td>1617.507</td>\n",
       "      <td>37082.559</td>\n",
       "      <td>14725.978</td>\n",
       "      <td>439.254</td>\n",
       "      <td>7647.528</td>\n",
       "      <td>12345.653</td>\n",
       "    </tr>\n",
       "    <tr>\n",
       "      <th>270</th>\n",
       "      <td>World</td>\n",
       "      <td>2020</td>\n",
       "      <td>1637.537</td>\n",
       "      <td>35264.086</td>\n",
       "      <td>14174.564</td>\n",
       "      <td>407.584</td>\n",
       "      <td>7556.290</td>\n",
       "      <td>11191.809</td>\n",
       "    </tr>\n",
       "    <tr>\n",
       "      <th>271</th>\n",
       "      <td>World</td>\n",
       "      <td>2021</td>\n",
       "      <td>1672.592</td>\n",
       "      <td>37123.852</td>\n",
       "      <td>14979.598</td>\n",
       "      <td>416.526</td>\n",
       "      <td>7921.830</td>\n",
       "      <td>11837.159</td>\n",
       "    </tr>\n",
       "  </tbody>\n",
       "</table>\n",
       "<p>272 rows × 8 columns</p>\n",
       "</div>"
      ],
      "text/plain": [
       "    country  year  cement_co2        co2   coal_co2  flaring_co2   gas_co2  \\\n",
       "0     World  1750         NaN      9.351      9.351          NaN       NaN   \n",
       "1     World  1751         NaN      9.351      9.351          NaN       NaN   \n",
       "2     World  1752         NaN      9.354      9.354          NaN       NaN   \n",
       "3     World  1753         NaN      9.354      9.354          NaN       NaN   \n",
       "4     World  1754         NaN      9.358      9.358          NaN       NaN   \n",
       "..      ...   ...         ...        ...        ...          ...       ...   \n",
       "267   World  2017    1507.923  36096.738  14506.974      391.992  7144.928   \n",
       "268   World  2018    1569.218  36826.508  14746.831      412.116  7529.847   \n",
       "269   World  2019    1617.507  37082.559  14725.978      439.254  7647.528   \n",
       "270   World  2020    1637.537  35264.086  14174.564      407.584  7556.290   \n",
       "271   World  2021    1672.592  37123.852  14979.598      416.526  7921.830   \n",
       "\n",
       "       oil_co2  \n",
       "0          NaN  \n",
       "1          NaN  \n",
       "2          NaN  \n",
       "3          NaN  \n",
       "4          NaN  \n",
       "..         ...  \n",
       "267  12242.628  \n",
       "268  12266.017  \n",
       "269  12345.653  \n",
       "270  11191.809  \n",
       "271  11837.159  \n",
       "\n",
       "[272 rows x 8 columns]"
      ]
     },
     "execution_count": 22,
     "metadata": {},
     "output_type": "execute_result"
    }
   ],
   "source": [
    "df"
   ]
  },
  {
   "cell_type": "code",
   "execution_count": 23,
   "id": "cfa7a986",
   "metadata": {
    "ExecuteTime": {
     "end_time": "2023-08-26T17:25:30.029024Z",
     "start_time": "2023-08-26T17:25:30.023543Z"
    }
   },
   "outputs": [],
   "source": [
    "ts = df[['year', 'co2']]"
   ]
  },
  {
   "cell_type": "code",
   "execution_count": 24,
   "id": "fd739a7a",
   "metadata": {
    "ExecuteTime": {
     "end_time": "2023-08-26T17:25:30.325486Z",
     "start_time": "2023-08-26T17:25:30.317948Z"
    }
   },
   "outputs": [],
   "source": [
    "ts.rename(columns = {'year':'ds','co2':'y'}, inplace = True)\n"
   ]
  },
  {
   "cell_type": "code",
   "execution_count": 25,
   "id": "8b42f4a8",
   "metadata": {
    "ExecuteTime": {
     "end_time": "2023-08-26T17:25:30.695299Z",
     "start_time": "2023-08-26T17:25:30.685231Z"
    }
   },
   "outputs": [],
   "source": [
    "ts['ds'] = pd.to_datetime(ts['ds'], format='%Y')\n"
   ]
  },
  {
   "cell_type": "code",
   "execution_count": 26,
   "id": "5f19db89",
   "metadata": {
    "ExecuteTime": {
     "end_time": "2023-08-26T17:25:31.019378Z",
     "start_time": "2023-08-26T17:25:31.002988Z"
    },
    "scrolled": true
   },
   "outputs": [
    {
     "data": {
      "text/html": [
       "<div>\n",
       "<style scoped>\n",
       "    .dataframe tbody tr th:only-of-type {\n",
       "        vertical-align: middle;\n",
       "    }\n",
       "\n",
       "    .dataframe tbody tr th {\n",
       "        vertical-align: top;\n",
       "    }\n",
       "\n",
       "    .dataframe thead th {\n",
       "        text-align: right;\n",
       "    }\n",
       "</style>\n",
       "<table border=\"1\" class=\"dataframe\">\n",
       "  <thead>\n",
       "    <tr style=\"text-align: right;\">\n",
       "      <th></th>\n",
       "      <th>ds</th>\n",
       "      <th>y</th>\n",
       "    </tr>\n",
       "  </thead>\n",
       "  <tbody>\n",
       "    <tr>\n",
       "      <th>0</th>\n",
       "      <td>1750-01-01</td>\n",
       "      <td>9.351</td>\n",
       "    </tr>\n",
       "    <tr>\n",
       "      <th>1</th>\n",
       "      <td>1751-01-01</td>\n",
       "      <td>9.351</td>\n",
       "    </tr>\n",
       "    <tr>\n",
       "      <th>2</th>\n",
       "      <td>1752-01-01</td>\n",
       "      <td>9.354</td>\n",
       "    </tr>\n",
       "    <tr>\n",
       "      <th>3</th>\n",
       "      <td>1753-01-01</td>\n",
       "      <td>9.354</td>\n",
       "    </tr>\n",
       "    <tr>\n",
       "      <th>4</th>\n",
       "      <td>1754-01-01</td>\n",
       "      <td>9.358</td>\n",
       "    </tr>\n",
       "    <tr>\n",
       "      <th>...</th>\n",
       "      <td>...</td>\n",
       "      <td>...</td>\n",
       "    </tr>\n",
       "    <tr>\n",
       "      <th>267</th>\n",
       "      <td>2017-01-01</td>\n",
       "      <td>36096.738</td>\n",
       "    </tr>\n",
       "    <tr>\n",
       "      <th>268</th>\n",
       "      <td>2018-01-01</td>\n",
       "      <td>36826.508</td>\n",
       "    </tr>\n",
       "    <tr>\n",
       "      <th>269</th>\n",
       "      <td>2019-01-01</td>\n",
       "      <td>37082.559</td>\n",
       "    </tr>\n",
       "    <tr>\n",
       "      <th>270</th>\n",
       "      <td>2020-01-01</td>\n",
       "      <td>35264.086</td>\n",
       "    </tr>\n",
       "    <tr>\n",
       "      <th>271</th>\n",
       "      <td>2021-01-01</td>\n",
       "      <td>37123.852</td>\n",
       "    </tr>\n",
       "  </tbody>\n",
       "</table>\n",
       "<p>272 rows × 2 columns</p>\n",
       "</div>"
      ],
      "text/plain": [
       "            ds          y\n",
       "0   1750-01-01      9.351\n",
       "1   1751-01-01      9.351\n",
       "2   1752-01-01      9.354\n",
       "3   1753-01-01      9.354\n",
       "4   1754-01-01      9.358\n",
       "..         ...        ...\n",
       "267 2017-01-01  36096.738\n",
       "268 2018-01-01  36826.508\n",
       "269 2019-01-01  37082.559\n",
       "270 2020-01-01  35264.086\n",
       "271 2021-01-01  37123.852\n",
       "\n",
       "[272 rows x 2 columns]"
      ]
     },
     "execution_count": 26,
     "metadata": {},
     "output_type": "execute_result"
    }
   ],
   "source": [
    "ts"
   ]
  },
  {
   "cell_type": "code",
   "execution_count": 27,
   "id": "7d24401a",
   "metadata": {
    "ExecuteTime": {
     "end_time": "2023-08-26T17:25:31.379202Z",
     "start_time": "2023-08-26T17:25:31.373004Z"
    }
   },
   "outputs": [],
   "source": [
    "ts.loc[ts['ds'] == '2020-01-01', 'y'] = (ts.loc[ts['ds'] == '2019-01-01', 'y'].values[0] + ts.loc[ts['ds'] == '2021-01-01', 'y'].values[0]) / 2\n"
   ]
  },
  {
   "cell_type": "code",
   "execution_count": 28,
   "id": "d66949ba",
   "metadata": {
    "ExecuteTime": {
     "end_time": "2023-08-26T17:25:32.112899Z",
     "start_time": "2023-08-26T17:25:31.918888Z"
    }
   },
   "outputs": [
    {
     "data": {
      "image/png": "[encoded data removed]",
      "text/plain": [
       "<Figure size 432x288 with 1 Axes>"
      ]
     },
     "metadata": {},
     "output_type": "display_data"
    }
   ],
   "source": [
    "ts = ts[ts['ds'] > pd.Timestamp('1879-01-01')]\n",
    "\n",
    "ts_train = ts[ts['ds'] < pd.Timestamp('2012-01-01')]\n",
    "ts_val = ts[(ts['ds'] >= pd.Timestamp('2000-01-01')) & (ts['ds'] < pd.Timestamp('2012-01-01'))]\n",
    "ts_test = ts[ts['ds'] >= pd.Timestamp('2012-01-01')]\n",
    "\n",
    "plt.title('Train/Test Sets', size=12)\n",
    "plt.plot(ts_train['ds'], ts_train['y'], label='Training set')\n",
    "plt.plot(ts_test['ds'], ts_test['y'], label='Test set', color='orange')\n",
    "plt.plot(ts_val['ds'], ts_val['y'], label='Test set', color='green')\n",
    "plt.xlabel('Year')\n",
    "plt.ylabel('CO2 Emissions')\n",
    "plt.legend();"
   ]
  },
  {
   "cell_type": "code",
   "execution_count": 29,
   "id": "da215c9e",
   "metadata": {
    "ExecuteTime": {
     "end_time": "2023-08-26T17:25:36.784246Z",
     "start_time": "2023-08-26T17:25:33.543251Z"
    },
    "scrolled": false
   },
   "outputs": [
    {
     "data": {
      "application/vnd.jupyter.widget-view+json": {
       "model_id": "7ac81b89a82848ab9c4a12fe1eeec9b9",
       "version_major": 2,
       "version_minor": 0
      },
      "text/plain": [
       "  0%|          | 0/109 [00:00<?, ?it/s]"
      ]
     },
     "metadata": {},
     "output_type": "display_data"
    },
    {
     "data": {
      "application/vnd.jupyter.widget-view+json": {
       "model_id": "ee05391baa5a47828ddecf5afb6e10f1",
       "version_major": 2,
       "version_minor": 0
      },
      "text/plain": [
       "  0%|          | 0/109 [00:00<?, ?it/s]"
      ]
     },
     "metadata": {},
     "output_type": "display_data"
    },
    {
     "name": "stderr",
     "output_type": "stream",
     "text": [
      "                                                                                \r"
     ]
    },
    {
     "data": {
      "text/html": [
       "<div>\n",
       "<style scoped>\n",
       "    .dataframe tbody tr th:only-of-type {\n",
       "        vertical-align: middle;\n",
       "    }\n",
       "\n",
       "    .dataframe tbody tr th {\n",
       "        vertical-align: top;\n",
       "    }\n",
       "\n",
       "    .dataframe thead th {\n",
       "        text-align: right;\n",
       "    }\n",
       "</style>\n",
       "<table border=\"1\" class=\"dataframe\">\n",
       "  <thead>\n",
       "    <tr style=\"text-align: right;\">\n",
       "      <th></th>\n",
       "      <th>SmoothL1Loss</th>\n",
       "      <th>MAE</th>\n",
       "      <th>RMSE</th>\n",
       "      <th>Loss</th>\n",
       "      <th>RegLoss</th>\n",
       "    </tr>\n",
       "  </thead>\n",
       "  <tbody>\n",
       "    <tr>\n",
       "      <th>0</th>\n",
       "      <td>0.607381</td>\n",
       "      <td>27578.355228</td>\n",
       "      <td>38093.166406</td>\n",
       "      <td>0.560033</td>\n",
       "      <td>0.0</td>\n",
       "    </tr>\n",
       "    <tr>\n",
       "      <th>1</th>\n",
       "      <td>0.567967</td>\n",
       "      <td>26887.542097</td>\n",
       "      <td>35465.988431</td>\n",
       "      <td>0.510935</td>\n",
       "      <td>0.0</td>\n",
       "    </tr>\n",
       "    <tr>\n",
       "      <th>2</th>\n",
       "      <td>0.538954</td>\n",
       "      <td>26390.124700</td>\n",
       "      <td>34327.007001</td>\n",
       "      <td>0.469322</td>\n",
       "      <td>0.0</td>\n",
       "    </tr>\n",
       "    <tr>\n",
       "      <th>3</th>\n",
       "      <td>0.522125</td>\n",
       "      <td>26144.324579</td>\n",
       "      <td>32534.300962</td>\n",
       "      <td>0.439588</td>\n",
       "      <td>0.0</td>\n",
       "    </tr>\n",
       "    <tr>\n",
       "      <th>4</th>\n",
       "      <td>0.519829</td>\n",
       "      <td>26334.089603</td>\n",
       "      <td>31844.754147</td>\n",
       "      <td>0.422693</td>\n",
       "      <td>0.0</td>\n",
       "    </tr>\n",
       "    <tr>\n",
       "      <th>...</th>\n",
       "      <td>...</td>\n",
       "      <td>...</td>\n",
       "      <td>...</td>\n",
       "      <td>...</td>\n",
       "      <td>...</td>\n",
       "    </tr>\n",
       "    <tr>\n",
       "      <th>455</th>\n",
       "      <td>0.000095</td>\n",
       "      <td>275.605717</td>\n",
       "      <td>381.835916</td>\n",
       "      <td>0.000086</td>\n",
       "      <td>0.0</td>\n",
       "    </tr>\n",
       "    <tr>\n",
       "      <th>456</th>\n",
       "      <td>0.000095</td>\n",
       "      <td>274.828272</td>\n",
       "      <td>382.339247</td>\n",
       "      <td>0.000086</td>\n",
       "      <td>0.0</td>\n",
       "    </tr>\n",
       "    <tr>\n",
       "      <th>457</th>\n",
       "      <td>0.000095</td>\n",
       "      <td>274.587889</td>\n",
       "      <td>379.260932</td>\n",
       "      <td>0.000086</td>\n",
       "      <td>0.0</td>\n",
       "    </tr>\n",
       "    <tr>\n",
       "      <th>458</th>\n",
       "      <td>0.000095</td>\n",
       "      <td>274.515216</td>\n",
       "      <td>382.593843</td>\n",
       "      <td>0.000086</td>\n",
       "      <td>0.0</td>\n",
       "    </tr>\n",
       "    <tr>\n",
       "      <th>459</th>\n",
       "      <td>0.000095</td>\n",
       "      <td>274.470364</td>\n",
       "      <td>382.570554</td>\n",
       "      <td>0.000086</td>\n",
       "      <td>0.0</td>\n",
       "    </tr>\n",
       "  </tbody>\n",
       "</table>\n",
       "<p>460 rows × 5 columns</p>\n",
       "</div>"
      ],
      "text/plain": [
       "     SmoothL1Loss           MAE          RMSE      Loss  RegLoss\n",
       "0        0.607381  27578.355228  38093.166406  0.560033      0.0\n",
       "1        0.567967  26887.542097  35465.988431  0.510935      0.0\n",
       "2        0.538954  26390.124700  34327.007001  0.469322      0.0\n",
       "3        0.522125  26144.324579  32534.300962  0.439588      0.0\n",
       "4        0.519829  26334.089603  31844.754147  0.422693      0.0\n",
       "..            ...           ...           ...       ...      ...\n",
       "455      0.000095    275.605717    381.835916  0.000086      0.0\n",
       "456      0.000095    274.828272    382.339247  0.000086      0.0\n",
       "457      0.000095    274.587889    379.260932  0.000086      0.0\n",
       "458      0.000095    274.515216    382.593843  0.000086      0.0\n",
       "459      0.000095    274.470364    382.570554  0.000086      0.0\n",
       "\n",
       "[460 rows x 5 columns]"
      ]
     },
     "execution_count": 29,
     "metadata": {},
     "output_type": "execute_result"
    }
   ],
   "source": [
    "m1 = NeuralProphet(changepoints_range =.9,n_forecasts=2,n_lags=1)\n",
    "m1.fit(ts_train, freq = 'YS')"
   ]
  },
  {
   "cell_type": "code",
   "execution_count": 30,
   "id": "36d5da8c",
   "metadata": {
    "ExecuteTime": {
     "end_time": "2023-08-26T17:25:43.700409Z",
     "start_time": "2023-08-26T17:25:43.648778Z"
    }
   },
   "outputs": [],
   "source": [
    "forecast_val = m1.predict(ts_val)"
   ]
  },
  {
   "cell_type": "code",
   "execution_count": 36,
   "id": "bd1bbba2",
   "metadata": {
    "ExecuteTime": {
     "end_time": "2023-08-26T17:35:35.329221Z",
     "start_time": "2023-08-26T17:35:35.253491Z"
    },
    "scrolled": true
   },
   "outputs": [
    {
     "data": {
      "text/html": [
       "<div>\n",
       "<style scoped>\n",
       "    .dataframe tbody tr th:only-of-type {\n",
       "        vertical-align: middle;\n",
       "    }\n",
       "\n",
       "    .dataframe tbody tr th {\n",
       "        vertical-align: top;\n",
       "    }\n",
       "\n",
       "    .dataframe thead th {\n",
       "        text-align: right;\n",
       "    }\n",
       "</style>\n",
       "<table border=\"1\" class=\"dataframe\">\n",
       "  <thead>\n",
       "    <tr style=\"text-align: right;\">\n",
       "      <th></th>\n",
       "      <th>ds</th>\n",
       "      <th>y</th>\n",
       "      <th>residual1</th>\n",
       "      <th>yhat1</th>\n",
       "      <th>residual2</th>\n",
       "      <th>yhat2</th>\n",
       "      <th>ar1</th>\n",
       "      <th>ar2</th>\n",
       "      <th>trend</th>\n",
       "      <th>season_yearly</th>\n",
       "    </tr>\n",
       "  </thead>\n",
       "  <tbody>\n",
       "    <tr>\n",
       "      <th>0</th>\n",
       "      <td>2012-01-01</td>\n",
       "      <td>35006.2700</td>\n",
       "      <td>NaN</td>\n",
       "      <td>None</td>\n",
       "      <td>NaN</td>\n",
       "      <td>None</td>\n",
       "      <td>None</td>\n",
       "      <td>None</td>\n",
       "      <td>None</td>\n",
       "      <td>None</td>\n",
       "    </tr>\n",
       "    <tr>\n",
       "      <th>1</th>\n",
       "      <td>2013-01-01</td>\n",
       "      <td>35319.2030</td>\n",
       "      <td>-473.683469</td>\n",
       "      <td>34845.519531</td>\n",
       "      <td>NaN</td>\n",
       "      <td>None</td>\n",
       "      <td>20024.097656</td>\n",
       "      <td>None</td>\n",
       "      <td>26216.9375</td>\n",
       "      <td>-11395.513672</td>\n",
       "    </tr>\n",
       "    <tr>\n",
       "      <th>2</th>\n",
       "      <td>2014-01-01</td>\n",
       "      <td>35577.5350</td>\n",
       "      <td>-259.163906</td>\n",
       "      <td>35318.371094</td>\n",
       "      <td>77.566562</td>\n",
       "      <td>35655.101562</td>\n",
       "      <td>20207.574219</td>\n",
       "      <td>20544.302734</td>\n",
       "      <td>26450.191406</td>\n",
       "      <td>-11339.391602</td>\n",
       "    </tr>\n",
       "    <tr>\n",
       "      <th>3</th>\n",
       "      <td>2015-01-01</td>\n",
       "      <td>35558.5660</td>\n",
       "      <td>202.613688</td>\n",
       "      <td>35761.179688</td>\n",
       "      <td>576.1215</td>\n",
       "      <td>36134.6875</td>\n",
       "      <td>20359.039062</td>\n",
       "      <td>20732.546875</td>\n",
       "      <td>26683.449219</td>\n",
       "      <td>-11281.307617</td>\n",
       "    </tr>\n",
       "    <tr>\n",
       "      <th>4</th>\n",
       "      <td>2016-01-01</td>\n",
       "      <td>35524.1910</td>\n",
       "      <td>519.156656</td>\n",
       "      <td>36043.347656</td>\n",
       "      <td>1059.184</td>\n",
       "      <td>36583.375</td>\n",
       "      <td>20347.916016</td>\n",
       "      <td>20887.947266</td>\n",
       "      <td>26916.703125</td>\n",
       "      <td>-11221.273438</td>\n",
       "    </tr>\n",
       "    <tr>\n",
       "      <th>5</th>\n",
       "      <td>2017-01-01</td>\n",
       "      <td>36096.7380</td>\n",
       "      <td>-13.898156</td>\n",
       "      <td>36082.839844</td>\n",
       "      <td>534.879188</td>\n",
       "      <td>36631.617188</td>\n",
       "      <td>20327.761719</td>\n",
       "      <td>20876.535156</td>\n",
       "      <td>27150.595703</td>\n",
       "      <td>-11395.513672</td>\n",
       "    </tr>\n",
       "    <tr>\n",
       "      <th>6</th>\n",
       "      <td>2018-01-01</td>\n",
       "      <td>36826.5080</td>\n",
       "      <td>-118.597844</td>\n",
       "      <td>36707.910156</td>\n",
       "      <td>73.808406</td>\n",
       "      <td>36900.316406</td>\n",
       "      <td>20663.453125</td>\n",
       "      <td>20855.857422</td>\n",
       "      <td>27383.849609</td>\n",
       "      <td>-11339.391602</td>\n",
       "    </tr>\n",
       "    <tr>\n",
       "      <th>7</th>\n",
       "      <td>2019-01-01</td>\n",
       "      <td>37082.5590</td>\n",
       "      <td>344.562094</td>\n",
       "      <td>37427.121094</td>\n",
       "      <td>453.507406</td>\n",
       "      <td>37536.066406</td>\n",
       "      <td>21091.326172</td>\n",
       "      <td>21200.269531</td>\n",
       "      <td>27617.103516</td>\n",
       "      <td>-11281.307617</td>\n",
       "    </tr>\n",
       "    <tr>\n",
       "      <th>8</th>\n",
       "      <td>2020-01-01</td>\n",
       "      <td>37103.2055</td>\n",
       "      <td>767.329656</td>\n",
       "      <td>37870.535156</td>\n",
       "      <td>1165.134344</td>\n",
       "      <td>38268.339844</td>\n",
       "      <td>21241.453125</td>\n",
       "      <td>21639.257812</td>\n",
       "      <td>27850.357422</td>\n",
       "      <td>-11221.273438</td>\n",
       "    </tr>\n",
       "    <tr>\n",
       "      <th>9</th>\n",
       "      <td>2021-01-01</td>\n",
       "      <td>37123.8520</td>\n",
       "      <td>818.444875</td>\n",
       "      <td>37942.296875</td>\n",
       "      <td>1358.167531</td>\n",
       "      <td>38482.019531</td>\n",
       "      <td>21253.558594</td>\n",
       "      <td>21793.285156</td>\n",
       "      <td>28084.251953</td>\n",
       "      <td>-11395.513672</td>\n",
       "    </tr>\n",
       "  </tbody>\n",
       "</table>\n",
       "</div>"
      ],
      "text/plain": [
       "          ds           y   residual1         yhat1    residual2         yhat2  \\\n",
       "0 2012-01-01  35006.2700         NaN          None          NaN          None   \n",
       "1 2013-01-01  35319.2030 -473.683469  34845.519531          NaN          None   \n",
       "2 2014-01-01  35577.5350 -259.163906  35318.371094    77.566562  35655.101562   \n",
       "3 2015-01-01  35558.5660  202.613688  35761.179688     576.1215    36134.6875   \n",
       "4 2016-01-01  35524.1910  519.156656  36043.347656     1059.184     36583.375   \n",
       "5 2017-01-01  36096.7380  -13.898156  36082.839844   534.879188  36631.617188   \n",
       "6 2018-01-01  36826.5080 -118.597844  36707.910156    73.808406  36900.316406   \n",
       "7 2019-01-01  37082.5590  344.562094  37427.121094   453.507406  37536.066406   \n",
       "8 2020-01-01  37103.2055  767.329656  37870.535156  1165.134344  38268.339844   \n",
       "9 2021-01-01  37123.8520  818.444875  37942.296875  1358.167531  38482.019531   \n",
       "\n",
       "            ar1           ar2         trend season_yearly  \n",
       "0          None          None          None          None  \n",
       "1  20024.097656          None    26216.9375 -11395.513672  \n",
       "2  20207.574219  20544.302734  26450.191406 -11339.391602  \n",
       "3  20359.039062  20732.546875  26683.449219 -11281.307617  \n",
       "4  20347.916016  20887.947266  26916.703125 -11221.273438  \n",
       "5  20327.761719  20876.535156  27150.595703 -11395.513672  \n",
       "6  20663.453125  20855.857422  27383.849609 -11339.391602  \n",
       "7  21091.326172  21200.269531  27617.103516 -11281.307617  \n",
       "8  21241.453125  21639.257812  27850.357422 -11221.273438  \n",
       "9  21253.558594  21793.285156  28084.251953 -11395.513672  "
      ]
     },
     "execution_count": 36,
     "metadata": {},
     "output_type": "execute_result"
    }
   ],
   "source": [
    "forecast1 = m1.predict(ts_test)\n",
    "forecast1"
   ]
  },
  {
   "cell_type": "code",
   "execution_count": 37,
   "id": "51a3ea9f",
   "metadata": {
    "ExecuteTime": {
     "end_time": "2023-08-26T17:35:35.978267Z",
     "start_time": "2023-08-26T17:35:35.790288Z"
    },
    "scrolled": true
   },
   "outputs": [
    {
     "data": {
      "image/png": "[encoded data removed]",
      "text/plain": [
       "<Figure size 432x288 with 1 Axes>"
      ]
     },
     "metadata": {},
     "output_type": "display_data"
    }
   ],
   "source": [
    "fig, ax = plt.subplots()\n",
    "\n",
    "\n",
    "ax.plot(forecast1['ds'], forecast1['y'], label='Actual co2')\n",
    "ax.plot(forecast1['ds'], forecast1['yhat1'], label='Predicted co2')\n",
    "\n",
    "\n",
    "ax.set_title('Predicted co2 emissions')\n",
    "ax.set_xlabel('Year')\n",
    "ax.set_ylabel('co2 emissions')\n",
    "\n",
    "\n",
    "ax.legend()\n",
    "\n",
    "\n",
    "plt.xticks(rotation=45)\n",
    "\n",
    "# Display the plot\n",
    "plt.tight_layout()\n",
    "plt.show()"
   ]
  },
  {
   "cell_type": "code",
   "execution_count": 38,
   "id": "565b70b2",
   "metadata": {
    "ExecuteTime": {
     "end_time": "2023-08-26T17:35:36.251596Z",
     "start_time": "2023-08-26T17:35:36.246447Z"
    }
   },
   "outputs": [],
   "source": [
    "#dropping lag\n",
    "true_val_forecast = forecast_val.dropna()"
   ]
  },
  {
   "cell_type": "code",
   "execution_count": 39,
   "id": "2724a9b0",
   "metadata": {
    "ExecuteTime": {
     "end_time": "2023-08-26T17:35:37.485361Z",
     "start_time": "2023-08-26T17:35:37.480879Z"
    }
   },
   "outputs": [],
   "source": [
    "#dropping lag\n",
    "true_forecast = forecast1.dropna()"
   ]
  },
  {
   "cell_type": "code",
   "execution_count": 40,
   "id": "e6e85df4",
   "metadata": {
    "ExecuteTime": {
     "end_time": "2023-08-26T17:35:37.957043Z",
     "start_time": "2023-08-26T17:35:37.949942Z"
    }
   },
   "outputs": [],
   "source": [
    "val_mae = mean_absolute_error(true_val_forecast['y'], true_val_forecast['yhat1'])\n",
    "val_rmse = mean_squared_error(true_val_forecast['y'], true_val_forecast['yhat1'], squared=False)\n",
    "val_mape = mean_absolute_percentage_error(true_val_forecast['y'], true_val_forecast['yhat1'])\n",
    "val_r2 = r2_score(true_val_forecast['y'], true_val_forecast['yhat1'])"
   ]
  },
  {
   "cell_type": "code",
   "execution_count": 46,
   "id": "a1dddf47",
   "metadata": {
    "ExecuteTime": {
     "end_time": "2023-08-26T17:36:55.678307Z",
     "start_time": "2023-08-26T17:36:55.674505Z"
    }
   },
   "outputs": [
    {
     "name": "stdout",
     "output_type": "stream",
     "text": [
      "Validation Scores:\n",
      "RMSE: 617.4985960170724\n",
      "MAE: 520.2561765625\n",
      "MAPE: 0.016579728690675866\n",
      "R2: 0.9352374797975991\n"
     ]
    }
   ],
   "source": [
    "print('Validation Scores:')\n",
    "print(f'RMSE: {val_rmse}\\nMAE: {val_mae}\\nMAPE: {val_mape}\\nR2: {val_r2}')\n"
   ]
  },
  {
   "cell_type": "code",
   "execution_count": 42,
   "id": "672d21a6",
   "metadata": {
    "ExecuteTime": {
     "end_time": "2023-08-26T17:35:38.978190Z",
     "start_time": "2023-08-26T17:35:38.969362Z"
    }
   },
   "outputs": [],
   "source": [
    "m1_mae = mean_absolute_error(true_forecast['y'], true_forecast['yhat1'])\n",
    "m1_rmse = mean_squared_error(true_forecast['y'], true_forecast['yhat1'], squared=False)\n",
    "m1_mape = mean_absolute_percentage_error(true_forecast['y'], true_forecast['yhat1'])\n",
    "m1_r2 = r2_score(true_forecast['y'], true_forecast['yhat1'])"
   ]
  },
  {
   "cell_type": "code",
   "execution_count": 49,
   "id": "1d3b6b2a",
   "metadata": {
    "ExecuteTime": {
     "end_time": "2023-08-26T17:37:16.292210Z",
     "start_time": "2023-08-26T17:37:16.288621Z"
    }
   },
   "outputs": [
    {
     "name": "stdout",
     "output_type": "stream",
     "text": [
      "Test Scores\n",
      "RMSE: 470.28851901080213\n",
      "MAE: 380.47085937500106\n",
      "MAPE: 0.010402649882018524\n",
      "R2: 0.546077326462437\n"
     ]
    }
   ],
   "source": [
    "print(\"Test Scores\")\n",
    "print(f'RMSE: {m1_rmse}\\nMAE: {m1_mae}\\nMAPE: {m1_mape}\\nR2: {m1_r2}')\n"
   ]
  },
  {
   "cell_type": "markdown",
   "id": "740bd859",
   "metadata": {},
   "source": [
    "## Conclusions\n",
    "\n",
    "#### Space Holder\n",
    "\n",
    "#### Space Holder\n",
    "\n",
    "####  Space Holder"
   ]
  },
  {
   "cell_type": "markdown",
   "id": "14e7007c",
   "metadata": {},
   "source": [
    "## Next Steps\n"
   ]
  }
 ],
 "metadata": {
  "kernelspec": {
   "display_name": "Python 3 (ipykernel)",
   "language": "python",
   "name": "python3"
  },
  "language_info": {
   "codemirror_mode": {
    "name": "ipython",
    "version": 3
   },
   "file_extension": ".py",
   "mimetype": "text/x-python",
   "name": "python",
   "nbconvert_exporter": "python",
   "pygments_lexer": "ipython3",
   "version": "3.9.13"
  },
  "toc": {
   "base_numbering": 1,
   "nav_menu": {},
   "number_sections": true,
   "sideBar": true,
   "skip_h1_title": true,
   "title_cell": "Table of Contents",
   "title_sidebar": "Contents",
   "toc_cell": false,
   "toc_position": {},
   "toc_section_display": true,
   "toc_window_display": false
  }
 },
 "nbformat": 4,
 "nbformat_minor": 5
}
