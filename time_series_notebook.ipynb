{
 "cells": [
  {
   "cell_type": "markdown",
   "id": "4b9f926c",
   "metadata": {},
   "source": [
    "# Industrial CO<sub>2</sub> Emission Analysis "
   ]
  },
  {
   "cell_type": "code",
   "execution_count": 47,
   "id": "19abaa7b",
   "metadata": {
    "ExecuteTime": {
     "end_time": "2023-08-24T19:36:15.595695Z",
     "start_time": "2023-08-24T19:36:15.582359Z"
    }
   },
   "outputs": [],
   "source": [
    "import pandas as pd\n",
    "import numpy as np\n",
    "import matplotlib.pyplot as plt\n",
    "from matplotlib.pylab import rcParams\n",
    "import seaborn as sns\n",
    "sns.set_style('darkgrid')\n",
    "import datetime\n",
    "from keras.models import Sequential\n",
    "from keras.layers import Dense, Dropout, LSTM\n",
    "from keras.optimizers import Adam\n",
    "from neuralprophet import NeuralProphet, set_log_level\n",
    "set_log_level(\"ERROR\")\n",
    "import warnings\n",
    "warnings.filterwarnings('ignore')\n",
    "from sklearn.metrics import mean_absolute_error\n",
    "from sklearn.metrics import mean_absolute_percentage_error\n",
    "from sklearn.metrics import r2_score\n",
    "from sklearn.metrics import mean_squared_error\n",
    "from math import sqrt\n",
    "from statsmodels.tsa.seasonal import seasonal_decompose\n",
    "from sklearn.preprocessing import MinMaxScaler\n",
    "from sklearn.preprocessing import StandardScaler\n",
    "from sklearn.model_selection import TimeSeriesSplit\n",
    "from sklearn.model_selection import TimeSeriesSplit\n",
    "from keras.preprocessing.sequence import TimeseriesGenerator\n",
    "import xgboost\n",
    "from xgboost import XGBRegressor\n",
    "from sklearn.model_selection import train_test_split\n",
    "from sklearn.model_selection import GridSearchCV\n",
    "import logging\n",
    "logging.getLogger('NeuralProphet').setLevel(logging.CRITICAL)\n",
    "from prophet.plot import plot_plotly, plot_components_plotly\n"
   ]
  },
  {
   "cell_type": "code",
   "execution_count": 30,
   "id": "d38bf818",
   "metadata": {
    "ExecuteTime": {
     "end_time": "2023-08-24T19:31:27.526103Z",
     "start_time": "2023-08-24T19:31:27.514820Z"
    }
   },
   "outputs": [],
   "source": [
    "#loading data\n",
    "\n",
    "df = pd.read_csv('owid-world-data.csv')"
   ]
  },
  {
   "cell_type": "code",
   "execution_count": 31,
   "id": "4305f5f2",
   "metadata": {
    "ExecuteTime": {
     "end_time": "2023-08-24T19:31:27.855992Z",
     "start_time": "2023-08-24T19:31:27.834002Z"
    }
   },
   "outputs": [
    {
     "data": {
      "text/html": [
       "<div>\n",
       "<style scoped>\n",
       "    .dataframe tbody tr th:only-of-type {\n",
       "        vertical-align: middle;\n",
       "    }\n",
       "\n",
       "    .dataframe tbody tr th {\n",
       "        vertical-align: top;\n",
       "    }\n",
       "\n",
       "    .dataframe thead th {\n",
       "        text-align: right;\n",
       "    }\n",
       "</style>\n",
       "<table border=\"1\" class=\"dataframe\">\n",
       "  <thead>\n",
       "    <tr style=\"text-align: right;\">\n",
       "      <th></th>\n",
       "      <th>country</th>\n",
       "      <th>year</th>\n",
       "      <th>cement_co2</th>\n",
       "      <th>co2</th>\n",
       "      <th>coal_co2</th>\n",
       "      <th>flaring_co2</th>\n",
       "      <th>gas_co2</th>\n",
       "      <th>oil_co2</th>\n",
       "    </tr>\n",
       "  </thead>\n",
       "  <tbody>\n",
       "    <tr>\n",
       "      <th>0</th>\n",
       "      <td>World</td>\n",
       "      <td>1750</td>\n",
       "      <td>NaN</td>\n",
       "      <td>9.351</td>\n",
       "      <td>9.351</td>\n",
       "      <td>NaN</td>\n",
       "      <td>NaN</td>\n",
       "      <td>NaN</td>\n",
       "    </tr>\n",
       "    <tr>\n",
       "      <th>1</th>\n",
       "      <td>World</td>\n",
       "      <td>1751</td>\n",
       "      <td>NaN</td>\n",
       "      <td>9.351</td>\n",
       "      <td>9.351</td>\n",
       "      <td>NaN</td>\n",
       "      <td>NaN</td>\n",
       "      <td>NaN</td>\n",
       "    </tr>\n",
       "    <tr>\n",
       "      <th>2</th>\n",
       "      <td>World</td>\n",
       "      <td>1752</td>\n",
       "      <td>NaN</td>\n",
       "      <td>9.354</td>\n",
       "      <td>9.354</td>\n",
       "      <td>NaN</td>\n",
       "      <td>NaN</td>\n",
       "      <td>NaN</td>\n",
       "    </tr>\n",
       "    <tr>\n",
       "      <th>3</th>\n",
       "      <td>World</td>\n",
       "      <td>1753</td>\n",
       "      <td>NaN</td>\n",
       "      <td>9.354</td>\n",
       "      <td>9.354</td>\n",
       "      <td>NaN</td>\n",
       "      <td>NaN</td>\n",
       "      <td>NaN</td>\n",
       "    </tr>\n",
       "    <tr>\n",
       "      <th>4</th>\n",
       "      <td>World</td>\n",
       "      <td>1754</td>\n",
       "      <td>NaN</td>\n",
       "      <td>9.358</td>\n",
       "      <td>9.358</td>\n",
       "      <td>NaN</td>\n",
       "      <td>NaN</td>\n",
       "      <td>NaN</td>\n",
       "    </tr>\n",
       "    <tr>\n",
       "      <th>...</th>\n",
       "      <td>...</td>\n",
       "      <td>...</td>\n",
       "      <td>...</td>\n",
       "      <td>...</td>\n",
       "      <td>...</td>\n",
       "      <td>...</td>\n",
       "      <td>...</td>\n",
       "      <td>...</td>\n",
       "    </tr>\n",
       "    <tr>\n",
       "      <th>267</th>\n",
       "      <td>World</td>\n",
       "      <td>2017</td>\n",
       "      <td>1507.923</td>\n",
       "      <td>36096.738</td>\n",
       "      <td>14506.974</td>\n",
       "      <td>391.992</td>\n",
       "      <td>7144.928</td>\n",
       "      <td>12242.628</td>\n",
       "    </tr>\n",
       "    <tr>\n",
       "      <th>268</th>\n",
       "      <td>World</td>\n",
       "      <td>2018</td>\n",
       "      <td>1569.218</td>\n",
       "      <td>36826.508</td>\n",
       "      <td>14746.831</td>\n",
       "      <td>412.116</td>\n",
       "      <td>7529.847</td>\n",
       "      <td>12266.017</td>\n",
       "    </tr>\n",
       "    <tr>\n",
       "      <th>269</th>\n",
       "      <td>World</td>\n",
       "      <td>2019</td>\n",
       "      <td>1617.507</td>\n",
       "      <td>37082.559</td>\n",
       "      <td>14725.978</td>\n",
       "      <td>439.254</td>\n",
       "      <td>7647.528</td>\n",
       "      <td>12345.653</td>\n",
       "    </tr>\n",
       "    <tr>\n",
       "      <th>270</th>\n",
       "      <td>World</td>\n",
       "      <td>2020</td>\n",
       "      <td>1637.537</td>\n",
       "      <td>35264.086</td>\n",
       "      <td>14174.564</td>\n",
       "      <td>407.584</td>\n",
       "      <td>7556.290</td>\n",
       "      <td>11191.809</td>\n",
       "    </tr>\n",
       "    <tr>\n",
       "      <th>271</th>\n",
       "      <td>World</td>\n",
       "      <td>2021</td>\n",
       "      <td>1672.592</td>\n",
       "      <td>37123.852</td>\n",
       "      <td>14979.598</td>\n",
       "      <td>416.526</td>\n",
       "      <td>7921.830</td>\n",
       "      <td>11837.159</td>\n",
       "    </tr>\n",
       "  </tbody>\n",
       "</table>\n",
       "<p>272 rows × 8 columns</p>\n",
       "</div>"
      ],
      "text/plain": [
       "    country  year  cement_co2        co2   coal_co2  flaring_co2   gas_co2  \\\n",
       "0     World  1750         NaN      9.351      9.351          NaN       NaN   \n",
       "1     World  1751         NaN      9.351      9.351          NaN       NaN   \n",
       "2     World  1752         NaN      9.354      9.354          NaN       NaN   \n",
       "3     World  1753         NaN      9.354      9.354          NaN       NaN   \n",
       "4     World  1754         NaN      9.358      9.358          NaN       NaN   \n",
       "..      ...   ...         ...        ...        ...          ...       ...   \n",
       "267   World  2017    1507.923  36096.738  14506.974      391.992  7144.928   \n",
       "268   World  2018    1569.218  36826.508  14746.831      412.116  7529.847   \n",
       "269   World  2019    1617.507  37082.559  14725.978      439.254  7647.528   \n",
       "270   World  2020    1637.537  35264.086  14174.564      407.584  7556.290   \n",
       "271   World  2021    1672.592  37123.852  14979.598      416.526  7921.830   \n",
       "\n",
       "       oil_co2  \n",
       "0          NaN  \n",
       "1          NaN  \n",
       "2          NaN  \n",
       "3          NaN  \n",
       "4          NaN  \n",
       "..         ...  \n",
       "267  12242.628  \n",
       "268  12266.017  \n",
       "269  12345.653  \n",
       "270  11191.809  \n",
       "271  11837.159  \n",
       "\n",
       "[272 rows x 8 columns]"
      ]
     },
     "execution_count": 31,
     "metadata": {},
     "output_type": "execute_result"
    }
   ],
   "source": [
    "df"
   ]
  },
  {
   "cell_type": "code",
   "execution_count": 32,
   "id": "cfa7a986",
   "metadata": {
    "ExecuteTime": {
     "end_time": "2023-08-24T19:31:28.155410Z",
     "start_time": "2023-08-24T19:31:28.148871Z"
    }
   },
   "outputs": [],
   "source": [
    "ts = df[['year', 'co2']]"
   ]
  },
  {
   "cell_type": "code",
   "execution_count": 33,
   "id": "fd739a7a",
   "metadata": {
    "ExecuteTime": {
     "end_time": "2023-08-24T19:31:28.487920Z",
     "start_time": "2023-08-24T19:31:28.482731Z"
    }
   },
   "outputs": [],
   "source": [
    "ts.rename(columns = {'year':'ds','co2':'y'}, inplace = True)\n"
   ]
  },
  {
   "cell_type": "code",
   "execution_count": 34,
   "id": "8b42f4a8",
   "metadata": {
    "ExecuteTime": {
     "end_time": "2023-08-24T19:31:28.824808Z",
     "start_time": "2023-08-24T19:31:28.816952Z"
    }
   },
   "outputs": [],
   "source": [
    "ts['ds'] = pd.to_datetime(ts['ds'], format='%Y')\n"
   ]
  },
  {
   "cell_type": "code",
   "execution_count": 35,
   "id": "5f19db89",
   "metadata": {
    "ExecuteTime": {
     "end_time": "2023-08-24T19:31:29.154440Z",
     "start_time": "2023-08-24T19:31:29.141711Z"
    },
    "scrolled": true
   },
   "outputs": [
    {
     "data": {
      "text/html": [
       "<div>\n",
       "<style scoped>\n",
       "    .dataframe tbody tr th:only-of-type {\n",
       "        vertical-align: middle;\n",
       "    }\n",
       "\n",
       "    .dataframe tbody tr th {\n",
       "        vertical-align: top;\n",
       "    }\n",
       "\n",
       "    .dataframe thead th {\n",
       "        text-align: right;\n",
       "    }\n",
       "</style>\n",
       "<table border=\"1\" class=\"dataframe\">\n",
       "  <thead>\n",
       "    <tr style=\"text-align: right;\">\n",
       "      <th></th>\n",
       "      <th>ds</th>\n",
       "      <th>y</th>\n",
       "    </tr>\n",
       "  </thead>\n",
       "  <tbody>\n",
       "    <tr>\n",
       "      <th>0</th>\n",
       "      <td>1750-01-01</td>\n",
       "      <td>9.351</td>\n",
       "    </tr>\n",
       "    <tr>\n",
       "      <th>1</th>\n",
       "      <td>1751-01-01</td>\n",
       "      <td>9.351</td>\n",
       "    </tr>\n",
       "    <tr>\n",
       "      <th>2</th>\n",
       "      <td>1752-01-01</td>\n",
       "      <td>9.354</td>\n",
       "    </tr>\n",
       "    <tr>\n",
       "      <th>3</th>\n",
       "      <td>1753-01-01</td>\n",
       "      <td>9.354</td>\n",
       "    </tr>\n",
       "    <tr>\n",
       "      <th>4</th>\n",
       "      <td>1754-01-01</td>\n",
       "      <td>9.358</td>\n",
       "    </tr>\n",
       "    <tr>\n",
       "      <th>...</th>\n",
       "      <td>...</td>\n",
       "      <td>...</td>\n",
       "    </tr>\n",
       "    <tr>\n",
       "      <th>267</th>\n",
       "      <td>2017-01-01</td>\n",
       "      <td>36096.738</td>\n",
       "    </tr>\n",
       "    <tr>\n",
       "      <th>268</th>\n",
       "      <td>2018-01-01</td>\n",
       "      <td>36826.508</td>\n",
       "    </tr>\n",
       "    <tr>\n",
       "      <th>269</th>\n",
       "      <td>2019-01-01</td>\n",
       "      <td>37082.559</td>\n",
       "    </tr>\n",
       "    <tr>\n",
       "      <th>270</th>\n",
       "      <td>2020-01-01</td>\n",
       "      <td>35264.086</td>\n",
       "    </tr>\n",
       "    <tr>\n",
       "      <th>271</th>\n",
       "      <td>2021-01-01</td>\n",
       "      <td>37123.852</td>\n",
       "    </tr>\n",
       "  </tbody>\n",
       "</table>\n",
       "<p>272 rows × 2 columns</p>\n",
       "</div>"
      ],
      "text/plain": [
       "            ds          y\n",
       "0   1750-01-01      9.351\n",
       "1   1751-01-01      9.351\n",
       "2   1752-01-01      9.354\n",
       "3   1753-01-01      9.354\n",
       "4   1754-01-01      9.358\n",
       "..         ...        ...\n",
       "267 2017-01-01  36096.738\n",
       "268 2018-01-01  36826.508\n",
       "269 2019-01-01  37082.559\n",
       "270 2020-01-01  35264.086\n",
       "271 2021-01-01  37123.852\n",
       "\n",
       "[272 rows x 2 columns]"
      ]
     },
     "execution_count": 35,
     "metadata": {},
     "output_type": "execute_result"
    }
   ],
   "source": [
    "ts"
   ]
  },
  {
   "cell_type": "code",
   "execution_count": 36,
   "id": "7d24401a",
   "metadata": {
    "ExecuteTime": {
     "end_time": "2023-08-24T19:31:29.491030Z",
     "start_time": "2023-08-24T19:31:29.483067Z"
    }
   },
   "outputs": [],
   "source": [
    "ts.loc[ts['ds'] == '2020-01-01', 'y'] = (ts.loc[ts['ds'] == '2019-01-01', 'y'].values[0] + ts.loc[ts['ds'] == '2021-01-01', 'y'].values[0]) / 2\n"
   ]
  },
  {
   "cell_type": "code",
   "execution_count": 37,
   "id": "d66949ba",
   "metadata": {
    "ExecuteTime": {
     "end_time": "2023-08-24T19:31:30.125357Z",
     "start_time": "2023-08-24T19:31:29.942439Z"
    }
   },
   "outputs": [
    {
     "data": {
      "image/png": "[encoded data removed]",
      "text/plain": [
       "<Figure size 432x288 with 1 Axes>"
      ]
     },
     "metadata": {},
     "output_type": "display_data"
    }
   ],
   "source": [
    "ts = ts[ts['ds'] > pd.Timestamp('1879-01-01')]\n",
    "\n",
    "ts_train = ts[ts['ds'] < pd.Timestamp('2012-01-01')]\n",
    "ts_val = ts[(ts['ds'] >= pd.Timestamp('2000-01-01')) & (ts['ds'] < pd.Timestamp('2012-01-01'))]\n",
    "ts_test = ts[ts['ds'] >= pd.Timestamp('2012-01-01')]\n",
    "\n",
    "plt.title('Train/Test Sets', size=12)\n",
    "plt.plot(ts_train['ds'], ts_train['y'], label='Training set')\n",
    "plt.plot(ts_test['ds'], ts_test['y'], label='Test set', color='orange')\n",
    "plt.plot(ts_val['ds'], ts_val['y'], label='Test set', color='green')\n",
    "plt.xlabel('Year')\n",
    "plt.ylabel('CO2 Emissions')\n",
    "plt.legend();"
   ]
  },
  {
   "cell_type": "code",
   "execution_count": 38,
   "id": "da215c9e",
   "metadata": {
    "ExecuteTime": {
     "end_time": "2023-08-24T19:31:33.488589Z",
     "start_time": "2023-08-24T19:31:30.626099Z"
    },
    "scrolled": true
   },
   "outputs": [
    {
     "data": {
      "application/vnd.jupyter.widget-view+json": {
       "model_id": "5f8c453b1f644659906ae77d39bc312b",
       "version_major": 2,
       "version_minor": 0
      },
      "text/plain": [
       "  0%|          | 0/109 [00:00<?, ?it/s]"
      ]
     },
     "metadata": {},
     "output_type": "display_data"
    },
    {
     "data": {
      "application/vnd.jupyter.widget-view+json": {
       "model_id": "439ad4ec549b4d5684a4ad960ad86130",
       "version_major": 2,
       "version_minor": 0
      },
      "text/plain": [
       "  0%|          | 0/109 [00:00<?, ?it/s]"
      ]
     },
     "metadata": {},
     "output_type": "display_data"
    },
    {
     "name": "stderr",
     "output_type": "stream",
     "text": [
      "                                                                                \r"
     ]
    },
    {
     "data": {
      "text/html": [
       "<div>\n",
       "<style scoped>\n",
       "    .dataframe tbody tr th:only-of-type {\n",
       "        vertical-align: middle;\n",
       "    }\n",
       "\n",
       "    .dataframe tbody tr th {\n",
       "        vertical-align: top;\n",
       "    }\n",
       "\n",
       "    .dataframe thead th {\n",
       "        text-align: right;\n",
       "    }\n",
       "</style>\n",
       "<table border=\"1\" class=\"dataframe\">\n",
       "  <thead>\n",
       "    <tr style=\"text-align: right;\">\n",
       "      <th></th>\n",
       "      <th>SmoothL1Loss</th>\n",
       "      <th>MAE</th>\n",
       "      <th>RMSE</th>\n",
       "      <th>Loss</th>\n",
       "      <th>RegLoss</th>\n",
       "      <th>SmoothL1Loss_val</th>\n",
       "      <th>MAE_val</th>\n",
       "      <th>RMSE_val</th>\n",
       "    </tr>\n",
       "  </thead>\n",
       "  <tbody>\n",
       "    <tr>\n",
       "      <th>0</th>\n",
       "      <td>1.316668</td>\n",
       "      <td>51225.816947</td>\n",
       "      <td>52576.823438</td>\n",
       "      <td>0.959429</td>\n",
       "      <td>0.0</td>\n",
       "      <td>0.962573</td>\n",
       "      <td>40063.992188</td>\n",
       "      <td>46382.222656</td>\n",
       "    </tr>\n",
       "    <tr>\n",
       "      <th>1</th>\n",
       "      <td>1.113562</td>\n",
       "      <td>45305.064724</td>\n",
       "      <td>46887.890865</td>\n",
       "      <td>0.803777</td>\n",
       "      <td>0.0</td>\n",
       "      <td>0.778497</td>\n",
       "      <td>32988.152344</td>\n",
       "      <td>40429.562500</td>\n",
       "    </tr>\n",
       "    <tr>\n",
       "      <th>2</th>\n",
       "      <td>0.912367</td>\n",
       "      <td>39254.692608</td>\n",
       "      <td>41144.988642</td>\n",
       "      <td>0.653101</td>\n",
       "      <td>0.0</td>\n",
       "      <td>0.620179</td>\n",
       "      <td>25889.474609</td>\n",
       "      <td>34679.554688</td>\n",
       "    </tr>\n",
       "    <tr>\n",
       "      <th>3</th>\n",
       "      <td>0.715403</td>\n",
       "      <td>33004.721394</td>\n",
       "      <td>35257.539904</td>\n",
       "      <td>0.505331</td>\n",
       "      <td>0.0</td>\n",
       "      <td>0.490572</td>\n",
       "      <td>23209.007812</td>\n",
       "      <td>29435.593750</td>\n",
       "    </tr>\n",
       "    <tr>\n",
       "      <th>4</th>\n",
       "      <td>0.520874</td>\n",
       "      <td>27065.626623</td>\n",
       "      <td>29289.888401</td>\n",
       "      <td>0.365415</td>\n",
       "      <td>0.0</td>\n",
       "      <td>0.391391</td>\n",
       "      <td>23076.955078</td>\n",
       "      <td>25214.052734</td>\n",
       "    </tr>\n",
       "    <tr>\n",
       "      <th>...</th>\n",
       "      <td>...</td>\n",
       "      <td>...</td>\n",
       "      <td>...</td>\n",
       "      <td>...</td>\n",
       "      <td>...</td>\n",
       "      <td>...</td>\n",
       "      <td>...</td>\n",
       "      <td>...</td>\n",
       "    </tr>\n",
       "    <tr>\n",
       "      <th>455</th>\n",
       "      <td>0.000091</td>\n",
       "      <td>271.231961</td>\n",
       "      <td>371.931098</td>\n",
       "      <td>0.000082</td>\n",
       "      <td>0.0</td>\n",
       "      <td>0.000240</td>\n",
       "      <td>503.807709</td>\n",
       "      <td>618.016785</td>\n",
       "    </tr>\n",
       "    <tr>\n",
       "      <th>456</th>\n",
       "      <td>0.000091</td>\n",
       "      <td>271.054015</td>\n",
       "      <td>375.905421</td>\n",
       "      <td>0.000081</td>\n",
       "      <td>0.0</td>\n",
       "      <td>0.000240</td>\n",
       "      <td>504.987213</td>\n",
       "      <td>618.495422</td>\n",
       "    </tr>\n",
       "    <tr>\n",
       "      <th>457</th>\n",
       "      <td>0.000091</td>\n",
       "      <td>271.025511</td>\n",
       "      <td>366.938757</td>\n",
       "      <td>0.000081</td>\n",
       "      <td>0.0</td>\n",
       "      <td>0.000241</td>\n",
       "      <td>506.477539</td>\n",
       "      <td>619.109253</td>\n",
       "    </tr>\n",
       "    <tr>\n",
       "      <th>458</th>\n",
       "      <td>0.000091</td>\n",
       "      <td>270.899847</td>\n",
       "      <td>372.477466</td>\n",
       "      <td>0.000081</td>\n",
       "      <td>0.0</td>\n",
       "      <td>0.000241</td>\n",
       "      <td>506.836243</td>\n",
       "      <td>619.260742</td>\n",
       "    </tr>\n",
       "    <tr>\n",
       "      <th>459</th>\n",
       "      <td>0.000091</td>\n",
       "      <td>270.882275</td>\n",
       "      <td>372.220756</td>\n",
       "      <td>0.000081</td>\n",
       "      <td>0.0</td>\n",
       "      <td>0.000241</td>\n",
       "      <td>506.911621</td>\n",
       "      <td>619.293396</td>\n",
       "    </tr>\n",
       "  </tbody>\n",
       "</table>\n",
       "<p>460 rows × 8 columns</p>\n",
       "</div>"
      ],
      "text/plain": [
       "     SmoothL1Loss           MAE          RMSE      Loss  RegLoss  \\\n",
       "0        1.316668  51225.816947  52576.823438  0.959429      0.0   \n",
       "1        1.113562  45305.064724  46887.890865  0.803777      0.0   \n",
       "2        0.912367  39254.692608  41144.988642  0.653101      0.0   \n",
       "3        0.715403  33004.721394  35257.539904  0.505331      0.0   \n",
       "4        0.520874  27065.626623  29289.888401  0.365415      0.0   \n",
       "..            ...           ...           ...       ...      ...   \n",
       "455      0.000091    271.231961    371.931098  0.000082      0.0   \n",
       "456      0.000091    271.054015    375.905421  0.000081      0.0   \n",
       "457      0.000091    271.025511    366.938757  0.000081      0.0   \n",
       "458      0.000091    270.899847    372.477466  0.000081      0.0   \n",
       "459      0.000091    270.882275    372.220756  0.000081      0.0   \n",
       "\n",
       "     SmoothL1Loss_val       MAE_val      RMSE_val  \n",
       "0            0.962573  40063.992188  46382.222656  \n",
       "1            0.778497  32988.152344  40429.562500  \n",
       "2            0.620179  25889.474609  34679.554688  \n",
       "3            0.490572  23209.007812  29435.593750  \n",
       "4            0.391391  23076.955078  25214.052734  \n",
       "..                ...           ...           ...  \n",
       "455          0.000240    503.807709    618.016785  \n",
       "456          0.000240    504.987213    618.495422  \n",
       "457          0.000241    506.477539    619.109253  \n",
       "458          0.000241    506.836243    619.260742  \n",
       "459          0.000241    506.911621    619.293396  \n",
       "\n",
       "[460 rows x 8 columns]"
      ]
     },
     "execution_count": 38,
     "metadata": {},
     "output_type": "execute_result"
    }
   ],
   "source": [
    "m1 = NeuralProphet(changepoints_range =.9,n_forecasts=2,n_lags=1)\n",
    "m1.fit(ts_train, validation_df=ts_val, freq = 'YS')"
   ]
  },
  {
   "cell_type": "code",
   "execution_count": 39,
   "id": "bd1bbba2",
   "metadata": {
    "ExecuteTime": {
     "end_time": "2023-08-24T19:31:33.512144Z",
     "start_time": "2023-08-24T19:31:33.489892Z"
    },
    "scrolled": true
   },
   "outputs": [
    {
     "data": {
      "text/html": [
       "<div>\n",
       "<style scoped>\n",
       "    .dataframe tbody tr th:only-of-type {\n",
       "        vertical-align: middle;\n",
       "    }\n",
       "\n",
       "    .dataframe tbody tr th {\n",
       "        vertical-align: top;\n",
       "    }\n",
       "\n",
       "    .dataframe thead th {\n",
       "        text-align: right;\n",
       "    }\n",
       "</style>\n",
       "<table border=\"1\" class=\"dataframe\">\n",
       "  <thead>\n",
       "    <tr style=\"text-align: right;\">\n",
       "      <th></th>\n",
       "      <th>ds</th>\n",
       "      <th>y</th>\n",
       "      <th>residual1</th>\n",
       "      <th>yhat1</th>\n",
       "      <th>residual2</th>\n",
       "      <th>yhat2</th>\n",
       "      <th>ar1</th>\n",
       "      <th>ar2</th>\n",
       "      <th>trend</th>\n",
       "      <th>season_yearly</th>\n",
       "    </tr>\n",
       "  </thead>\n",
       "  <tbody>\n",
       "    <tr>\n",
       "      <th>0</th>\n",
       "      <td>2012-01-01</td>\n",
       "      <td>35006.2700</td>\n",
       "      <td>NaN</td>\n",
       "      <td>None</td>\n",
       "      <td>NaN</td>\n",
       "      <td>None</td>\n",
       "      <td>None</td>\n",
       "      <td>None</td>\n",
       "      <td>None</td>\n",
       "      <td>None</td>\n",
       "    </tr>\n",
       "    <tr>\n",
       "      <th>1</th>\n",
       "      <td>2013-01-01</td>\n",
       "      <td>35319.2030</td>\n",
       "      <td>-64.777219</td>\n",
       "      <td>35254.425781</td>\n",
       "      <td>NaN</td>\n",
       "      <td>None</td>\n",
       "      <td>24234.800781</td>\n",
       "      <td>None</td>\n",
       "      <td>-6177.362305</td>\n",
       "      <td>17196.992188</td>\n",
       "    </tr>\n",
       "    <tr>\n",
       "      <th>2</th>\n",
       "      <td>2014-01-01</td>\n",
       "      <td>35577.5350</td>\n",
       "      <td>137.222812</td>\n",
       "      <td>35714.757812</td>\n",
       "      <td>507.875156</td>\n",
       "      <td>36085.410156</td>\n",
       "      <td>24456.859375</td>\n",
       "      <td>24827.513672</td>\n",
       "      <td>-5999.713867</td>\n",
       "      <td>17257.613281</td>\n",
       "    </tr>\n",
       "    <tr>\n",
       "      <th>3</th>\n",
       "      <td>2015-01-01</td>\n",
       "      <td>35558.5660</td>\n",
       "      <td>578.273844</td>\n",
       "      <td>36136.839844</td>\n",
       "      <td>993.105875</td>\n",
       "      <td>36551.671875</td>\n",
       "      <td>24640.171875</td>\n",
       "      <td>25055.003906</td>\n",
       "      <td>-5822.064453</td>\n",
       "      <td>17318.734375</td>\n",
       "    </tr>\n",
       "    <tr>\n",
       "      <th>4</th>\n",
       "      <td>2016-01-01</td>\n",
       "      <td>35524.1910</td>\n",
       "      <td>838.445719</td>\n",
       "      <td>36362.636719</td>\n",
       "      <td>1454.52775</td>\n",
       "      <td>36978.71875</td>\n",
       "      <td>24626.712891</td>\n",
       "      <td>25242.800781</td>\n",
       "      <td>-5644.417969</td>\n",
       "      <td>17380.34375</td>\n",
       "    </tr>\n",
       "    <tr>\n",
       "      <th>5</th>\n",
       "      <td>2017-01-01</td>\n",
       "      <td>36096.7380</td>\n",
       "      <td>236.289344</td>\n",
       "      <td>36333.027344</td>\n",
       "      <td>862.984656</td>\n",
       "      <td>36959.722656</td>\n",
       "      <td>24602.320312</td>\n",
       "      <td>25229.011719</td>\n",
       "      <td>-5466.282227</td>\n",
       "      <td>17196.992188</td>\n",
       "    </tr>\n",
       "    <tr>\n",
       "      <th>6</th>\n",
       "      <td>2018-01-01</td>\n",
       "      <td>36826.5080</td>\n",
       "      <td>151.070125</td>\n",
       "      <td>36977.578125</td>\n",
       "      <td>346.488094</td>\n",
       "      <td>37172.996094</td>\n",
       "      <td>25008.599609</td>\n",
       "      <td>25204.023438</td>\n",
       "      <td>-5288.635742</td>\n",
       "      <td>17257.613281</td>\n",
       "    </tr>\n",
       "    <tr>\n",
       "      <th>7</th>\n",
       "      <td>2019-01-01</td>\n",
       "      <td>37082.5590</td>\n",
       "      <td>651.636312</td>\n",
       "      <td>37734.195312</td>\n",
       "      <td>745.429281</td>\n",
       "      <td>37827.988281</td>\n",
       "      <td>25526.447266</td>\n",
       "      <td>25620.240234</td>\n",
       "      <td>-5110.987793</td>\n",
       "      <td>17318.734375</td>\n",
       "    </tr>\n",
       "    <tr>\n",
       "      <th>8</th>\n",
       "      <td>2020-01-01</td>\n",
       "      <td>37103.2055</td>\n",
       "      <td>1051.942938</td>\n",
       "      <td>38155.148438</td>\n",
       "      <td>1494.548406</td>\n",
       "      <td>38597.753906</td>\n",
       "      <td>25708.142578</td>\n",
       "      <td>26150.753906</td>\n",
       "      <td>-4933.338379</td>\n",
       "      <td>17380.34375</td>\n",
       "    </tr>\n",
       "    <tr>\n",
       "      <th>9</th>\n",
       "      <td>2021-01-01</td>\n",
       "      <td>37123.8520</td>\n",
       "      <td>1040.726125</td>\n",
       "      <td>38164.578125</td>\n",
       "      <td>1654.823781</td>\n",
       "      <td>38778.675781</td>\n",
       "      <td>25722.794922</td>\n",
       "      <td>26336.890625</td>\n",
       "      <td>-4755.206055</td>\n",
       "      <td>17196.992188</td>\n",
       "    </tr>\n",
       "  </tbody>\n",
       "</table>\n",
       "</div>"
      ],
      "text/plain": [
       "          ds           y    residual1         yhat1    residual2  \\\n",
       "0 2012-01-01  35006.2700          NaN          None          NaN   \n",
       "1 2013-01-01  35319.2030   -64.777219  35254.425781          NaN   \n",
       "2 2014-01-01  35577.5350   137.222812  35714.757812   507.875156   \n",
       "3 2015-01-01  35558.5660   578.273844  36136.839844   993.105875   \n",
       "4 2016-01-01  35524.1910   838.445719  36362.636719   1454.52775   \n",
       "5 2017-01-01  36096.7380   236.289344  36333.027344   862.984656   \n",
       "6 2018-01-01  36826.5080   151.070125  36977.578125   346.488094   \n",
       "7 2019-01-01  37082.5590   651.636312  37734.195312   745.429281   \n",
       "8 2020-01-01  37103.2055  1051.942938  38155.148438  1494.548406   \n",
       "9 2021-01-01  37123.8520  1040.726125  38164.578125  1654.823781   \n",
       "\n",
       "          yhat2           ar1           ar2        trend season_yearly  \n",
       "0          None          None          None         None          None  \n",
       "1          None  24234.800781          None -6177.362305  17196.992188  \n",
       "2  36085.410156  24456.859375  24827.513672 -5999.713867  17257.613281  \n",
       "3  36551.671875  24640.171875  25055.003906 -5822.064453  17318.734375  \n",
       "4   36978.71875  24626.712891  25242.800781 -5644.417969   17380.34375  \n",
       "5  36959.722656  24602.320312  25229.011719 -5466.282227  17196.992188  \n",
       "6  37172.996094  25008.599609  25204.023438 -5288.635742  17257.613281  \n",
       "7  37827.988281  25526.447266  25620.240234 -5110.987793  17318.734375  \n",
       "8  38597.753906  25708.142578  26150.753906 -4933.338379   17380.34375  \n",
       "9  38778.675781  25722.794922  26336.890625 -4755.206055  17196.992188  "
      ]
     },
     "execution_count": 39,
     "metadata": {},
     "output_type": "execute_result"
    }
   ],
   "source": [
    "forecast1 = m1.predict(ts_test)\n",
    "forecast1"
   ]
  },
  {
   "cell_type": "code",
   "execution_count": 40,
   "id": "51a3ea9f",
   "metadata": {
    "ExecuteTime": {
     "end_time": "2023-08-24T19:31:33.662592Z",
     "start_time": "2023-08-24T19:31:33.513159Z"
    },
    "scrolled": true
   },
   "outputs": [
    {
     "data": {
      "image/png": "[encoded data removed]",
      "text/plain": [
       "<Figure size 432x288 with 1 Axes>"
      ]
     },
     "metadata": {},
     "output_type": "display_data"
    }
   ],
   "source": [
    "fig, ax = plt.subplots()\n",
    "\n",
    "\n",
    "ax.plot(forecast1['ds'], forecast1['y'], label='Actual co2')\n",
    "ax.plot(forecast1['ds'], forecast1['yhat1'], label='Predicted co2')\n",
    "\n",
    "\n",
    "ax.set_title('Predicted co2 emissions')\n",
    "ax.set_xlabel('Year')\n",
    "ax.set_ylabel('co2 emissions')\n",
    "\n",
    "\n",
    "ax.legend()\n",
    "\n",
    "\n",
    "plt.xticks(rotation=45)\n",
    "\n",
    "# Display the plot\n",
    "plt.tight_layout()\n",
    "plt.show()"
   ]
  },
  {
   "cell_type": "code",
   "execution_count": 41,
   "id": "2724a9b0",
   "metadata": {
    "ExecuteTime": {
     "end_time": "2023-08-24T19:31:33.666294Z",
     "start_time": "2023-08-24T19:31:33.664352Z"
    }
   },
   "outputs": [],
   "source": [
    "#dropping lag\n",
    "true_forecast = forecast1.dropna()"
   ]
  },
  {
   "cell_type": "code",
   "execution_count": 67,
   "id": "672d21a6",
   "metadata": {
    "ExecuteTime": {
     "end_time": "2023-08-24T19:45:31.540620Z",
     "start_time": "2023-08-24T19:45:31.532349Z"
    }
   },
   "outputs": [],
   "source": [
    "m1_mae = mean_absolute_error(true_forecast['y'], true_forecast['yhat1'])\n",
    "m1_rmse = mean_squared_error(true_forecast['y'], true_forecast['yhat1'], squared=False)\n",
    "m1_mape = mean_absolute_percentage_error(true_forecast['y'], true_forecast['yhat1'])\n",
    "m1_r2 = r2_score(true_forecast['y'], true_forecast['yhat1'])"
   ]
  },
  {
   "cell_type": "code",
   "execution_count": 70,
   "id": "1d3b6b2a",
   "metadata": {
    "ExecuteTime": {
     "end_time": "2023-08-24T19:52:55.497854Z",
     "start_time": "2023-08-24T19:52:55.492131Z"
    }
   },
   "outputs": [
    {
     "name": "stdout",
     "output_type": "stream",
     "text": [
      "RMSE: 684.5802996494995\n",
      "MAE: 585.7009023437504\n",
      "MAPE: 0.016041023211755597\n",
      "R2: 0.03816202991165063\n"
     ]
    }
   ],
   "source": [
    "print(f'RMSE: {m1_rmse}\\nMAE: {m1_mae}\\nMAPE: {m1_mape}\\nR2: {m1_r2}')\n"
   ]
  },
  {
   "cell_type": "markdown",
   "id": "740bd859",
   "metadata": {},
   "source": [
    "## Conclusions\n",
    "\n",
    "#### Space Holder\n",
    "\n",
    "#### Space Holder\n",
    "\n",
    "####  Space Holder"
   ]
  },
  {
   "cell_type": "markdown",
   "id": "14e7007c",
   "metadata": {},
   "source": [
    "## Next Steps\n"
   ]
  }
 ],
 "metadata": {
  "kernelspec": {
   "display_name": "Python 3 (ipykernel)",
   "language": "python",
   "name": "python3"
  },
  "language_info": {
   "codemirror_mode": {
    "name": "ipython",
    "version": 3
   },
   "file_extension": ".py",
   "mimetype": "text/x-python",
   "name": "python",
   "nbconvert_exporter": "python",
   "pygments_lexer": "ipython3",
   "version": "3.9.13"
  },
  "toc": {
   "base_numbering": 1,
   "nav_menu": {},
   "number_sections": true,
   "sideBar": true,
   "skip_h1_title": true,
   "title_cell": "Table of Contents",
   "title_sidebar": "Contents",
   "toc_cell": false,
   "toc_position": {},
   "toc_section_display": true,
   "toc_window_display": false
  }
 },
 "nbformat": 4,
 "nbformat_minor": 5
}
